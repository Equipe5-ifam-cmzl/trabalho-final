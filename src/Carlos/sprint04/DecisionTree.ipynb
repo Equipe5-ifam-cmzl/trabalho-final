{
  "cells": [
    {
      "cell_type": "code",
      "execution_count": 1,
      "metadata": {
        "id": "ELOlspbEz99m"
      },
      "outputs": [],
      "source": [
        "# 1 - Importar libs e dataset\n",
        "\n",
        "import pandas as pd\n",
        "import numpy as np\n",
        "\n",
        "link = \"C:/Users/CarlosViniMSouza/Documents/Projects/data-mining-ifam/database/result.csv\"\n",
        "\n",
        "dataset = pd.read_csv(link)"
      ]
    },
    {
      "cell_type": "code",
      "execution_count": 2,
      "metadata": {},
      "outputs": [],
      "source": [
        "# 2 - Destinar features e coluna-alvo\n",
        "\n",
        "featureNames = ['risk_score', 'amount_requested', 'has_debt', 'income']\n",
        "\n",
        "X = pd.DataFrame(dataset, columns=featureNames)\n",
        "y = np.array(dataset['e_signed'])"
      ]
    },
    {
      "cell_type": "code",
      "execution_count": 3,
      "metadata": {},
      "outputs": [],
      "source": [
        "# 3 - Dividindo os dados de treino e teste\n",
        "\n",
        "from sklearn.model_selection import train_test_split as tts\n",
        "\n",
        "X_train, X_test, y_train, y_test = tts(X, y, test_size=0.3, random_state=0)"
      ]
    },
    {
      "cell_type": "code",
      "execution_count": 4,
      "metadata": {},
      "outputs": [
        {
          "name": "stdout",
          "output_type": "stream",
          "text": [
            "Shape de treino: (12535, 4)\n",
            "Shape de teste: (5373, 4)\n"
          ]
        }
      ],
      "source": [
        "# 4 - Checando proporções de treino e teste\n",
        "\n",
        "print(f\"Shape de treino: {X_train.shape}\")\n",
        "\n",
        "print(f\"Shape de teste: {X_test.shape}\")"
      ]
    },
    {
      "cell_type": "code",
      "execution_count": 5,
      "metadata": {
        "id": "6vZJgcQzz99p"
      },
      "outputs": [],
      "source": [
        "# 3 - Definindo classificador (Com valores padrão)\n",
        "\n",
        "from sklearn.tree import DecisionTreeClassifier\n",
        "\n",
        "model = DecisionTreeClassifier()"
      ]
    },
    {
      "cell_type": "code",
      "execution_count": 6,
      "metadata": {},
      "outputs": [
        {
          "data": {
            "text/plain": [
              "0.999680893498205"
            ]
          },
          "execution_count": 6,
          "metadata": {},
          "output_type": "execute_result"
        }
      ],
      "source": [
        "# 4 - TREINO\n",
        "\n",
        "model.fit(X_train, y_train)\n",
        "model.score(X_train, y_train)"
      ]
    },
    {
      "cell_type": "code",
      "execution_count": 7,
      "metadata": {},
      "outputs": [
        {
          "data": {
            "text/plain": [
              "0.9998138842359948"
            ]
          },
          "execution_count": 7,
          "metadata": {},
          "output_type": "execute_result"
        }
      ],
      "source": [
        "# 5 - TEST\n",
        "\n",
        "model.fit(X_test, y_test)\n",
        "model.score(X_test, y_test)"
      ]
    },
    {
      "cell_type": "code",
      "execution_count": 8,
      "metadata": {},
      "outputs": [
        {
          "name": "stdout",
          "output_type": "stream",
          "text": [
            "0.9998138842359948\n"
          ]
        }
      ],
      "source": [
        "# 6 - Resultado\n",
        "\n",
        "predictions = model.predict(X_test)\n",
        "score = model.score(X_test, y_test)\n",
        "\n",
        "print(score)"
      ]
    },
    {
      "attachments": {},
      "cell_type": "markdown",
      "metadata": {},
      "source": [
        "## Vamos testar alguns parâmetros do tipo **critério**:\n",
        "\n",
        "1. `gini (valor padrão)`\n",
        "2. `entropy`\n",
        "3. `log_loss`\n",
        "\n",
        "## E três parâmetros especifícos:\n",
        "\n",
        "1. `max_depth`\n",
        "2. `min_samples_split`\n",
        "3. `splitter`"
      ]
    },
    {
      "attachments": {},
      "cell_type": "markdown",
      "metadata": {},
      "source": [
        "1. Do tipo critério, vamos usar o valor `entropy`"
      ]
    },
    {
      "cell_type": "code",
      "execution_count": 9,
      "metadata": {},
      "outputs": [],
      "source": [
        "# Melhor resultado obtido: [max_depth=1000, min_samples_split=10]\n",
        "\n",
        "model = DecisionTreeClassifier(\n",
        "    criterion='entropy', \n",
        "    splitter=\"best\", \n",
        "    max_depth=1000, \n",
        "    min_samples_split=10\n",
        ")"
      ]
    },
    {
      "cell_type": "code",
      "execution_count": 10,
      "metadata": {},
      "outputs": [
        {
          "data": {
            "text/plain": [
              "0.879617072197846"
            ]
          },
          "execution_count": 10,
          "metadata": {},
          "output_type": "execute_result"
        }
      ],
      "source": [
        "# TREINO\n",
        "\n",
        "model.fit(X_train, y_train)\n",
        "model.score(X_train, y_train)"
      ]
    },
    {
      "cell_type": "code",
      "execution_count": 11,
      "metadata": {},
      "outputs": [
        {
          "data": {
            "text/plain": [
              "0.8706495440163782"
            ]
          },
          "execution_count": 11,
          "metadata": {},
          "output_type": "execute_result"
        }
      ],
      "source": [
        "# TESTE\n",
        "\n",
        "model.fit(X_test, y_test)\n",
        "model.score(X_test, y_test)"
      ]
    },
    {
      "cell_type": "code",
      "execution_count": 12,
      "metadata": {},
      "outputs": [
        {
          "name": "stdout",
          "output_type": "stream",
          "text": [
            "0.8706495440163782\n"
          ]
        }
      ],
      "source": [
        "# Resultado\n",
        "\n",
        "predictions = model.predict(X_test)\n",
        "score = model.score(X_test, y_test)\n",
        "\n",
        "print(score)"
      ]
    },
    {
      "attachments": {},
      "cell_type": "markdown",
      "metadata": {},
      "source": [
        "2. Do tipo critério, o `log_loss`"
      ]
    },
    {
      "cell_type": "code",
      "execution_count": 32,
      "metadata": {},
      "outputs": [],
      "source": [
        "# Melhor resultado obtido: [max_depth=1000, min_samples_split=10]\n",
        "\n",
        "model = DecisionTreeClassifier(\n",
        "    criterion='log_loss', \n",
        "    splitter=\"best\",\n",
        "    max_depth=1000, \n",
        "    min_samples_split=10\n",
        ")"
      ]
    },
    {
      "cell_type": "code",
      "execution_count": 33,
      "metadata": {},
      "outputs": [
        {
          "data": {
            "text/plain": [
              "0.8804148384523335"
            ]
          },
          "execution_count": 33,
          "metadata": {},
          "output_type": "execute_result"
        }
      ],
      "source": [
        "# TREINO\n",
        "\n",
        "model.fit(X_train, y_train)\n",
        "model.score(X_train, y_train)"
      ]
    },
    {
      "cell_type": "code",
      "execution_count": 34,
      "metadata": {},
      "outputs": [
        {
          "data": {
            "text/plain": [
              "0.870463428252373"
            ]
          },
          "execution_count": 34,
          "metadata": {},
          "output_type": "execute_result"
        }
      ],
      "source": [
        "# TESTE\n",
        "\n",
        "model.fit(X_test, y_test)\n",
        "model.score(X_test, y_test)"
      ]
    },
    {
      "cell_type": "code",
      "execution_count": 37,
      "metadata": {},
      "outputs": [
        {
          "name": "stdout",
          "output_type": "stream",
          "text": [
            "0.870463428252373\n"
          ]
        }
      ],
      "source": [
        "# Resultados\n",
        "\n",
        "predictions = model.predict(X_test)\n",
        "score = model.score(X_test, y_test)\n",
        "\n",
        "print(score)"
      ]
    },
    {
      "cell_type": "code",
      "execution_count": 17,
      "metadata": {},
      "outputs": [],
      "source": [
        "import seaborn as sns"
      ]
    },
    {
      "cell_type": "code",
      "execution_count": 18,
      "metadata": {},
      "outputs": [
        {
          "name": "stdout",
          "output_type": "stream",
          "text": [
            "              precision    recall  f1-score   support\n",
            "\n",
            "           0       0.84      0.89      0.86      2492\n",
            "           1       0.90      0.85      0.88      2881\n",
            "\n",
            "    accuracy                           0.87      5373\n",
            "   macro avg       0.87      0.87      0.87      5373\n",
            "weighted avg       0.87      0.87      0.87      5373\n",
            "\n"
          ]
        },
        {
          "data": {
            "image/png": "[encoded data removed]",
            "text/plain": [
              "<Figure size 640x480 with 2 Axes>"
            ]
          },
          "metadata": {},
          "output_type": "display_data"
        }
      ],
      "source": [
        "from sklearn.metrics import classification_report, confusion_matrix\n",
        "\n",
        "confMatrix = confusion_matrix(y_test, predictions)\n",
        "\n",
        "sns \\\n",
        "    .heatmap(confMatrix, annot=True, fmt='d') \\\n",
        "    .set_title('Results in confusion matrix')\n",
        "\n",
        "print(classification_report(y_test, predictions))"
      ]
    },
    {
      "attachments": {},
      "cell_type": "markdown",
      "metadata": {},
      "source": [
        "## Bem, agora vamos documentar e testar outros valores para comprovar que o resultado anterior foi o melhor possivel\n",
        "\n",
        "### Mas antes, vamos deixar algumas coisas enclarecidas:\n",
        "\n",
        "1. `max_depth` trabalhará com valores múltiplos de 100 (de 100 a 1000), \n",
        "2. `min_samples_split` trabalhará com valores múltiplos de 5 (de 5 a 50),\n",
        "\n",
        "Com isso, o notebook poderá trabalhar mais efetivamente (*sem interferir muito na acurácia*)."
      ]
    },
    {
      "attachments": {},
      "cell_type": "markdown",
      "metadata": {},
      "source": [
        "1. Do tipo critério, o `entropy`"
      ]
    },
    {
      "cell_type": "code",
      "execution_count": 29,
      "metadata": {},
      "outputs": [
        {
          "name": "stdout",
          "output_type": "stream",
          "text": [
            "Acuracia com intervalo [100, 10] => 0.8807\n",
            "Acuracia com intervalo [100, 20] => 0.8148\n",
            "Acuracia com intervalo [100, 30] => 0.7776\n",
            "Acuracia com intervalo [100, 40] => 0.7548\n",
            "Acuracia com intervalo [100, 50] => 0.7384\n",
            "\n",
            "\n",
            "Acuracia com intervalo [200, 10] => 0.8799\n",
            "Acuracia com intervalo [200, 20] => 0.8135\n",
            "Acuracia com intervalo [200, 30] => 0.7778\n",
            "Acuracia com intervalo [200, 40] => 0.7554\n",
            "Acuracia com intervalo [200, 50] => 0.7391\n",
            "\n",
            "\n",
            "Acuracia com intervalo [300, 10] => 0.8798\n",
            "Acuracia com intervalo [300, 20] => 0.8149\n",
            "Acuracia com intervalo [300, 30] => 0.7781\n",
            "Acuracia com intervalo [300, 40] => 0.756\n",
            "Acuracia com intervalo [300, 50] => 0.7393\n",
            "\n",
            "\n",
            "Acuracia com intervalo [400, 10] => 0.8801\n",
            "Acuracia com intervalo [400, 20] => 0.8123\n",
            "Acuracia com intervalo [400, 30] => 0.7776\n",
            "Acuracia com intervalo [400, 40] => 0.7555\n",
            "Acuracia com intervalo [400, 50] => 0.7388\n",
            "\n",
            "\n",
            "Acuracia com intervalo [500, 10] => 0.8798\n",
            "Acuracia com intervalo [500, 20] => 0.8141\n",
            "Acuracia com intervalo [500, 30] => 0.7767\n",
            "Acuracia com intervalo [500, 40] => 0.7553\n",
            "Acuracia com intervalo [500, 50] => 0.7386\n",
            "\n",
            "\n"
          ]
        }
      ],
      "source": [
        "# Vamos até o max_depth=500 \n",
        "for max_depth_loop in range(100, 600, 100):\n",
        "    for min_samples_loop in range(10, 60, 10):\n",
        "        model = DecisionTreeClassifier(\n",
        "            criterion='entropy', \n",
        "            splitter=\"best\",\n",
        "            max_depth=max_depth_loop, \n",
        "            min_samples_split=min_samples_loop\n",
        "        )\n",
        "\n",
        "        model.fit(X_train, y_train)\n",
        "\n",
        "        print(f\"Acuracia com intervalo [{max_depth_loop}, {min_samples_loop}] => {round(model.score(X_train, y_train), 4)}\")\n",
        "    print(\"\\n\")"
      ]
    },
    {
      "cell_type": "code",
      "execution_count": 28,
      "metadata": {},
      "outputs": [
        {
          "name": "stdout",
          "output_type": "stream",
          "text": [
            "Acuracia com intervalo [600, 10] => 0.8794\n",
            "Acuracia com intervalo [600, 20] => 0.8129\n",
            "Acuracia com intervalo [600, 30] => 0.7777\n",
            "Acuracia com intervalo [600, 40] => 0.7554\n",
            "Acuracia com intervalo [600, 50] => 0.739\n",
            "\n",
            "\n",
            "Acuracia com intervalo [700, 10] => 0.8808\n",
            "Acuracia com intervalo [700, 20] => 0.8124\n",
            "Acuracia com intervalo [700, 30] => 0.7764\n",
            "Acuracia com intervalo [700, 40] => 0.7549\n",
            "Acuracia com intervalo [700, 50] => 0.7391\n",
            "\n",
            "\n",
            "Acuracia com intervalo [800, 10] => 0.8804\n",
            "Acuracia com intervalo [800, 20] => 0.8143\n",
            "Acuracia com intervalo [800, 30] => 0.7772\n",
            "Acuracia com intervalo [800, 40] => 0.7548\n",
            "Acuracia com intervalo [800, 50] => 0.7391\n",
            "\n",
            "\n",
            "Acuracia com intervalo [900, 10] => 0.8807\n",
            "Acuracia com intervalo [900, 20] => 0.8136\n",
            "Acuracia com intervalo [900, 30] => 0.7778\n",
            "Acuracia com intervalo [900, 40] => 0.7552\n",
            "Acuracia com intervalo [900, 50] => 0.7389\n",
            "\n",
            "\n",
            "Acuracia com intervalo [1000, 10] => 0.8807\n",
            "Acuracia com intervalo [1000, 20] => 0.8142\n",
            "Acuracia com intervalo [1000, 30] => 0.7782\n",
            "Acuracia com intervalo [1000, 40] => 0.7556\n",
            "Acuracia com intervalo [1000, 50] => 0.739\n",
            "\n",
            "\n"
          ]
        }
      ],
      "source": [
        "# Vamos do max_depth=500 ao max_depth=1000\n",
        "for max_depth_loop in range(600, 1100, 100):\n",
        "    for min_samples_loop in range(10, 60, 10):\n",
        "        model = DecisionTreeClassifier(\n",
        "            criterion='entropy', \n",
        "            splitter=\"best\",\n",
        "            max_depth=max_depth_loop, \n",
        "            min_samples_split=min_samples_loop\n",
        "        )\n",
        "\n",
        "        model.fit(X_train, y_train)\n",
        "\n",
        "        print(f\"Acuracia com intervalo [{max_depth_loop}, {min_samples_loop}] => {round(model.score(X_train, y_train), 4)}\")\n",
        "    print(\"\\n\")"
      ]
    },
    {
      "attachments": {},
      "cell_type": "markdown",
      "metadata": {},
      "source": [
        "2. Do tipo critério, o `log_loss`"
      ]
    },
    {
      "cell_type": "code",
      "execution_count": 31,
      "metadata": {},
      "outputs": [
        {
          "name": "stdout",
          "output_type": "stream",
          "text": [
            "Acuracia com intervalo [100, 10] => 0.8793\n",
            "Acuracia com intervalo [100, 20] => 0.8124\n",
            "Acuracia com intervalo [100, 30] => 0.7773\n",
            "Acuracia com intervalo [100, 40] => 0.7552\n",
            "Acuracia com intervalo [100, 50] => 0.7384\n",
            "\n",
            "\n",
            "Acuracia com intervalo [200, 10] => 0.8811\n",
            "Acuracia com intervalo [200, 20] => 0.8132\n",
            "Acuracia com intervalo [200, 30] => 0.778\n",
            "Acuracia com intervalo [200, 40] => 0.7552\n",
            "Acuracia com intervalo [200, 50] => 0.7388\n",
            "\n",
            "\n",
            "Acuracia com intervalo [300, 10] => 0.8796\n",
            "Acuracia com intervalo [300, 20] => 0.8132\n",
            "Acuracia com intervalo [300, 30] => 0.777\n",
            "Acuracia com intervalo [300, 40] => 0.756\n",
            "Acuracia com intervalo [300, 50] => 0.739\n",
            "\n",
            "\n",
            "Acuracia com intervalo [400, 10] => 0.8791\n",
            "Acuracia com intervalo [400, 20] => 0.8133\n",
            "Acuracia com intervalo [400, 30] => 0.7781\n",
            "Acuracia com intervalo [400, 40] => 0.7549\n",
            "Acuracia com intervalo [400, 50] => 0.7387\n",
            "\n",
            "\n",
            "Acuracia com intervalo [500, 10] => 0.8794\n",
            "Acuracia com intervalo [500, 20] => 0.8126\n",
            "Acuracia com intervalo [500, 30] => 0.7778\n",
            "Acuracia com intervalo [500, 40] => 0.7553\n",
            "Acuracia com intervalo [500, 50] => 0.7393\n",
            "\n",
            "\n"
          ]
        }
      ],
      "source": [
        "# Vamos até o max_depth=500\n",
        "for max_depth_loop in range(100, 600, 100):\n",
        "    for min_samples_loop in range(10, 60, 10):\n",
        "        model = DecisionTreeClassifier(\n",
        "            criterion='log_loss', \n",
        "            splitter=\"best\",\n",
        "            max_depth=max_depth_loop, \n",
        "            min_samples_split=min_samples_loop\n",
        "        )\n",
        "\n",
        "        model.fit(X_train, y_train)\n",
        "\n",
        "        print(f\"Acuracia com intervalo [{max_depth_loop}, {min_samples_loop}] => {round(model.score(X_train, y_train), 4)}\")\n",
        "    print(\"\\n\")"
      ]
    },
    {
      "cell_type": "code",
      "execution_count": 40,
      "metadata": {},
      "outputs": [
        {
          "name": "stdout",
          "output_type": "stream",
          "text": [
            "Acuracia com intervalo [600, 10] => 0.8801\n",
            "Acuracia com intervalo [600, 20] => 0.8133\n",
            "Acuracia com intervalo [600, 30] => 0.7776\n",
            "Acuracia com intervalo [600, 40] => 0.756\n",
            "Acuracia com intervalo [600, 50] => 0.739\n",
            "\n",
            "\n",
            "Acuracia com intervalo [700, 10] => 0.8798\n",
            "Acuracia com intervalo [700, 20] => 0.8138\n",
            "Acuracia com intervalo [700, 30] => 0.7773\n",
            "Acuracia com intervalo [700, 40] => 0.7555\n",
            "Acuracia com intervalo [700, 50] => 0.7392\n",
            "\n",
            "\n",
            "Acuracia com intervalo [800, 10] => 0.8807\n",
            "Acuracia com intervalo [800, 20] => 0.8138\n",
            "Acuracia com intervalo [800, 30] => 0.7773\n",
            "Acuracia com intervalo [800, 40] => 0.7552\n",
            "Acuracia com intervalo [800, 50] => 0.7391\n",
            "\n",
            "\n",
            "Acuracia com intervalo [900, 10] => 0.8798\n",
            "Acuracia com intervalo [900, 20] => 0.8131\n",
            "Acuracia com intervalo [900, 30] => 0.7774\n",
            "Acuracia com intervalo [900, 40] => 0.7556\n",
            "Acuracia com intervalo [900, 50] => 0.7393\n",
            "\n",
            "\n",
            "Acuracia com intervalo [1000, 10] => 0.8797\n",
            "Acuracia com intervalo [1000, 20] => 0.8132\n",
            "Acuracia com intervalo [1000, 30] => 0.7771\n",
            "Acuracia com intervalo [1000, 40] => 0.7553\n",
            "Acuracia com intervalo [1000, 50] => 0.7392\n",
            "\n",
            "\n"
          ]
        }
      ],
      "source": [
        "# Vamos do max_depth=500 ao max_depth=1000\n",
        "for max_depth_loop in range(600, 1100, 100):\n",
        "    for min_samples_loop in range(10, 60, 10):\n",
        "        model = DecisionTreeClassifier(\n",
        "            criterion='log_loss', \n",
        "            splitter=\"best\",\n",
        "            max_depth=max_depth_loop, \n",
        "            min_samples_split=min_samples_loop\n",
        "        )\n",
        "\n",
        "        model.fit(X_train, y_train)\n",
        "\n",
        "        print(f\"Acuracia com intervalo [{max_depth_loop}, {min_samples_loop}] => {round(model.score(X_train, y_train), 4)}\")\n",
        "    print(\"\\n\")"
      ]
    },
    {
      "attachments": {},
      "cell_type": "markdown",
      "metadata": {},
      "source": [
        "## Bem, com isso, podemos tirar algumas conclusões:\n",
        "\n",
        "1. Conforme aumentamos o número do `min_samples_split`, menor será a acurácia.\n",
        "2. O 1° resultado de cada loop é sempre o mais elevado.\n",
        "\n",
        "Então, vamos documentar os resultados obtidos nos loops"
      ]
    },
    {
      "attachments": {},
      "cell_type": "markdown",
      "metadata": {},
      "source": [
        "1. Em relação ao critério `entropy` (Melhores Resultados)\n",
        "\n",
        "| [max_depth, min_samples_split] | result |\n",
        "|--------------------------------|--------|\n",
        "| [100, 10] | 0.8807 |\n",
        "| [200, 10] | 0.8799 |\n",
        "| [300, 10] | 0.8798 |\n",
        "| [400, 10] | 0.8801 |\n",
        "| [500, 10] | 0.8798 |\n",
        "| [600, 10] | 0.8794 |\n",
        "| [700, 10] | 0.8808 |\n",
        "| [800, 10] | 0.8804 |\n",
        "| [900, 10] | 0.8807 |\n",
        "| [1000, 10]| 0.8807 |"
      ]
    },
    {
      "attachments": {},
      "cell_type": "markdown",
      "metadata": {},
      "source": [
        "1. Em relação ao critério `log_loss` (Melhores Resultados)\n",
        "\n",
        "| [max_depth, min_samples_split] | result |\n",
        "|--------------------------------|--------|\n",
        "| [100, 10] | 0.8793 |\n",
        "| [200, 10] | 0.8811 |\n",
        "| [300, 10] | 0.8796 |\n",
        "| [400, 10] | 0.8791 |\n",
        "| [500, 10] | 0.8794 |\n",
        "| [600, 10] | 0.8801 |\n",
        "| [700, 10] | 0.8798 |\n",
        "| [800, 10] | 0.8807 |\n",
        "| [900, 10] | 0.8798 |\n",
        "| [1000, 10]| 0.8797 |"
      ]
    },
    {
      "cell_type": "code",
      "execution_count": null,
      "metadata": {},
      "outputs": [],
      "source": []
    }
  ],
  "metadata": {
    "colab": {
      "provenance": []
    },
    "kernelspec": {
      "display_name": "venv",
      "language": "python",
      "name": "python3"
    },
    "language_info": {
      "codemirror_mode": {
        "name": "ipython",
        "version": 3
      },
      "file_extension": ".py",
      "mimetype": "text/x-python",
      "name": "python",
      "nbconvert_exporter": "python",
      "pygments_lexer": "ipython3",
      "version": "3.11.3"
    },
    "orig_nbformat": 4
  },
  "nbformat": 4,
  "nbformat_minor": 0
}
