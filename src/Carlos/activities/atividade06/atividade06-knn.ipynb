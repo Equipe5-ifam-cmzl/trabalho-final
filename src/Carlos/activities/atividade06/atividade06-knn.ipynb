{
  "cells": [
    {
      "cell_type": "markdown",
      "metadata": {
        "id": "DoOk6nINQZS3"
      },
      "source": [
        "Crie um notebook no serviço em nuvem Google Colaboratory para reproduzir o exemplo apresentado em sala de aula e, em seguida, responda:\n",
        "\n",
        "a) Identifique os hiperparâmetros do algoritmo de `k-nearest neighbors`.\n",
        "\n",
        "b) Para a métrica de cálculo de distância `minkowski`, repita as etapas de treino e testes modificando o parâmetro n_neighbors de 2 até 25. Qual o menor valor do parâmetro n_neighbors com a maior acurácia nos dados de testes? \n",
        "Qual a referida acurácia?\n",
        "\n",
        "c) Para o menor valor do parâmetro n_neighbors com a maior acurácia nos dados de testes, repita as etapas de treino e testes modificando a métrica de cálculo de distância para: `manhattan`, `euclidean`, `hamming`. Houve alguma diferença \n",
        "nos resultados? Apresente um quadro resumo com os valores da acurácia para cada métrica de cálculo de distância \n",
        "utilizada.\n",
        "\n",
        "d) Para o melhor desempenho com o valor do parâmetro `n_neighbors` e a métrica de cálculo de distância selecionados, interprete a matriz de confusão calculada e exibida.\n",
        "\n",
        "```\n",
        "Observação: Caso haja mais de um cenário com melhor desempenho, escolha um para analisar.\n",
        "```"
      ]
    },
    {
      "cell_type": "code",
      "execution_count": 1,
      "metadata": {
        "id": "sw43wexPQVNK"
      },
      "outputs": [],
      "source": [
        "from sklearn.datasets import load_iris\n",
        "from sklearn.model_selection import train_test_split as tts\n",
        "from sklearn.neighbors import KNeighborsClassifier\n",
        "\n",
        "from sklearn import metrics\n",
        "from sklearn.metrics import confusion_matrix, ConfusionMatrixDisplay\n",
        "\n",
        "import pickle\n",
        "\n",
        "dataset = load_iris()"
      ]
    },
    {
      "cell_type": "code",
      "execution_count": 2,
      "metadata": {
        "colab": {
          "base_uri": "https://localhost:8080/"
        },
        "id": "a6Lve508RRo_",
        "outputId": "a6885324-21d6-47eb-9020-5f65c661332d"
      },
      "outputs": [
        {
          "name": "stdout",
          "output_type": "stream",
          "text": [
            "shape de X_train: (120, 4) | shape de X_test: (30, 4)\n"
          ]
        }
      ],
      "source": [
        "# 5 - Dividindo dataset em conj. treino & teste\n",
        "X_train, X_test, y_train, y_test = tts(dataset.data, dataset.target, test_size=0.2, random_state=4)\n",
        "\n",
        "print(f\"shape de X_train: {X_train.shape} | shape de X_test: {X_test.shape}\")"
      ]
    },
    {
      "cell_type": "code",
      "execution_count": 3,
      "metadata": {
        "colab": {
          "base_uri": "https://localhost:8080/",
          "height": 75
        },
        "id": "iqvg2uHMRjxn",
        "outputId": "68fbfe72-58c7-45d1-ada4-efc947e4adcc"
      },
      "outputs": [
        {
          "data": {
            "text/html": [
              "<style>#sk-container-id-1 {color: black;background-color: white;}#sk-container-id-1 pre{padding: 0;}#sk-container-id-1 div.sk-toggleable {background-color: white;}#sk-container-id-1 label.sk-toggleable__label {cursor: pointer;display: block;width: 100%;margin-bottom: 0;padding: 0.3em;box-sizing: border-box;text-align: center;}#sk-container-id-1 label.sk-toggleable__label-arrow:before {content: \"▸\";float: left;margin-right: 0.25em;color: #696969;}#sk-container-id-1 label.sk-toggleable__label-arrow:hover:before {color: black;}#sk-container-id-1 div.sk-estimator:hover label.sk-toggleable__label-arrow:before {color: black;}#sk-container-id-1 div.sk-toggleable__content {max-height: 0;max-width: 0;overflow: hidden;text-align: left;background-color: #f0f8ff;}#sk-container-id-1 div.sk-toggleable__content pre {margin: 0.2em;color: black;border-radius: 0.25em;background-color: #f0f8ff;}#sk-container-id-1 input.sk-toggleable__control:checked~div.sk-toggleable__content {max-height: 200px;max-width: 100%;overflow: auto;}#sk-container-id-1 input.sk-toggleable__control:checked~label.sk-toggleable__label-arrow:before {content: \"▾\";}#sk-container-id-1 div.sk-estimator input.sk-toggleable__control:checked~label.sk-toggleable__label {background-color: #d4ebff;}#sk-container-id-1 div.sk-label input.sk-toggleable__control:checked~label.sk-toggleable__label {background-color: #d4ebff;}#sk-container-id-1 input.sk-hidden--visually {border: 0;clip: rect(1px 1px 1px 1px);clip: rect(1px, 1px, 1px, 1px);height: 1px;margin: -1px;overflow: hidden;padding: 0;position: absolute;width: 1px;}#sk-container-id-1 div.sk-estimator {font-family: monospace;background-color: #f0f8ff;border: 1px dotted black;border-radius: 0.25em;box-sizing: border-box;margin-bottom: 0.5em;}#sk-container-id-1 div.sk-estimator:hover {background-color: #d4ebff;}#sk-container-id-1 div.sk-parallel-item::after {content: \"\";width: 100%;border-bottom: 1px solid gray;flex-grow: 1;}#sk-container-id-1 div.sk-label:hover label.sk-toggleable__label {background-color: #d4ebff;}#sk-container-id-1 div.sk-serial::before {content: \"\";position: absolute;border-left: 1px solid gray;box-sizing: border-box;top: 0;bottom: 0;left: 50%;z-index: 0;}#sk-container-id-1 div.sk-serial {display: flex;flex-direction: column;align-items: center;background-color: white;padding-right: 0.2em;padding-left: 0.2em;position: relative;}#sk-container-id-1 div.sk-item {position: relative;z-index: 1;}#sk-container-id-1 div.sk-parallel {display: flex;align-items: stretch;justify-content: center;background-color: white;position: relative;}#sk-container-id-1 div.sk-item::before, #sk-container-id-1 div.sk-parallel-item::before {content: \"\";position: absolute;border-left: 1px solid gray;box-sizing: border-box;top: 0;bottom: 0;left: 50%;z-index: -1;}#sk-container-id-1 div.sk-parallel-item {display: flex;flex-direction: column;z-index: 1;position: relative;background-color: white;}#sk-container-id-1 div.sk-parallel-item:first-child::after {align-self: flex-end;width: 50%;}#sk-container-id-1 div.sk-parallel-item:last-child::after {align-self: flex-start;width: 50%;}#sk-container-id-1 div.sk-parallel-item:only-child::after {width: 0;}#sk-container-id-1 div.sk-dashed-wrapped {border: 1px dashed gray;margin: 0 0.4em 0.5em 0.4em;box-sizing: border-box;padding-bottom: 0.4em;background-color: white;}#sk-container-id-1 div.sk-label label {font-family: monospace;font-weight: bold;display: inline-block;line-height: 1.2em;}#sk-container-id-1 div.sk-label-container {text-align: center;}#sk-container-id-1 div.sk-container {/* jupyter's `normalize.less` sets `[hidden] { display: none; }` but bootstrap.min.css set `[hidden] { display: none !important; }` so we also need the `!important` here to be able to override the default hidden behavior on the sphinx rendered scikit-learn.org. See: https://github.com/scikit-learn/scikit-learn/issues/21755 */display: inline-block !important;position: relative;}#sk-container-id-1 div.sk-text-repr-fallback {display: none;}</style><div id=\"sk-container-id-1\" class=\"sk-top-container\"><div class=\"sk-text-repr-fallback\"><pre>KNeighborsClassifier(n_neighbors=1)</pre><b>In a Jupyter environment, please rerun this cell to show the HTML representation or trust the notebook. <br />On GitHub, the HTML representation is unable to render, please try loading this page with nbviewer.org.</b></div><div class=\"sk-container\" hidden><div class=\"sk-item\"><div class=\"sk-estimator sk-toggleable\"><input class=\"sk-toggleable__control sk-hidden--visually\" id=\"sk-estimator-id-1\" type=\"checkbox\" checked><label for=\"sk-estimator-id-1\" class=\"sk-toggleable__label sk-toggleable__label-arrow\">KNeighborsClassifier</label><div class=\"sk-toggleable__content\"><pre>KNeighborsClassifier(n_neighbors=1)</pre></div></div></div></div></div>"
            ],
            "text/plain": [
              "KNeighborsClassifier(n_neighbors=1)"
            ]
          },
          "execution_count": 3,
          "metadata": {},
          "output_type": "execute_result"
        }
      ],
      "source": [
        "\"\"\"\n",
        "a) Identifique os hiperparâmetros do algoritmo de k-nearest neighbors.\n",
        "Resp.: n_neighbors e metric\n",
        "\"\"\"\n",
        "\n",
        "# 6 - atribuindo N vizinhos proximos\n",
        "k = 1\n",
        "\n",
        "# 7 - Instanciando Classificador\n",
        "model = KNeighborsClassifier(n_neighbors=k, metric=\"minkowski\")\n",
        "\n",
        "# 8 - P/ treinar o modelo\n",
        "model.fit(X_train, y_train)"
      ]
    },
    {
      "cell_type": "markdown",
      "metadata": {
        "id": "PpAV5KSGRl0f"
      },
      "source": []
    },
    {
      "cell_type": "code",
      "execution_count": 4,
      "metadata": {
        "colab": {
          "base_uri": "https://localhost:8080/"
        },
        "id": "FBqvF0s5RuaT",
        "outputId": "e3ea0814-d444-4116-e300-7df9352e0761"
      },
      "outputs": [
        {
          "name": "stdout",
          "output_type": "stream",
          "text": [
            "Acuracia do Modelo de 2 vizinhos: 0.9333333333333333\n",
            "Acuracia do Modelo de 3 vizinhos: 0.9666666666666667\n",
            "Acuracia do Modelo de 4 vizinhos: 0.9666666666666667\n",
            "Acuracia do Modelo de 5 vizinhos: 0.9666666666666667\n",
            "Acuracia do Modelo de 6 vizinhos: 0.9666666666666667\n",
            "Acuracia do Modelo de 7 vizinhos: 0.9666666666666667\n",
            "Acuracia do Modelo de 8 vizinhos: 0.9666666666666667\n",
            "Acuracia do Modelo de 9 vizinhos: 0.9666666666666667\n",
            "Acuracia do Modelo de 10 vizinhos: 0.9666666666666667\n",
            "Acuracia do Modelo de 11 vizinhos: 0.9666666666666667\n",
            "Acuracia do Modelo de 12 vizinhos: 0.9666666666666667\n",
            "Acuracia do Modelo de 13 vizinhos: 0.9666666666666667\n",
            "Acuracia do Modelo de 14 vizinhos: 0.9666666666666667\n",
            "Acuracia do Modelo de 15 vizinhos: 0.9666666666666667\n",
            "Acuracia do Modelo de 16 vizinhos: 0.9666666666666667\n",
            "Acuracia do Modelo de 17 vizinhos: 0.9666666666666667\n",
            "Acuracia do Modelo de 18 vizinhos: 0.9666666666666667\n",
            "Acuracia do Modelo de 19 vizinhos: 0.9666666666666667\n",
            "Acuracia do Modelo de 20 vizinhos: 0.9333333333333333\n",
            "Acuracia do Modelo de 21 vizinhos: 0.9666666666666667\n",
            "Acuracia do Modelo de 22 vizinhos: 0.9333333333333333\n",
            "Acuracia do Modelo de 23 vizinhos: 0.9666666666666667\n",
            "Acuracia do Modelo de 24 vizinhos: 0.9666666666666667\n",
            "Acuracia do Modelo de 25 vizinhos: 0.9666666666666667\n"
          ]
        }
      ],
      "source": [
        "\"\"\"\n",
        "b) Para a métrica de cálculo de distância minkowski, repita as etapas de treino e testes modificando o parâmetro n_neighbors de 2 até 25. \n",
        "\n",
        "(I) Qual o menor valor do parâmetro n_neighbors com a maior acurácia nos dados de testes? \n",
        "Resp.: n_neighbors = 3\n",
        "\n",
        "(II) Qual a referida acurácia?\n",
        "Resp.: acuracia = 0.9667 (aproximadamente)\n",
        "\"\"\"\n",
        "\n",
        "for loop in range(2, 26):\n",
        "    model = KNeighborsClassifier(n_neighbors=loop, metric=\"minkowski\")\n",
        "    model.fit(X_train, y_train)\n",
        "\n",
        "    y_pred = model.predict(X_test)\n",
        "    acc = metrics.accuracy_score(y_test, y_pred)\n",
        "\n",
        "    print(f\"Acuracia do Modelo de {loop} vizinhos: {acc}\")"
      ]
    },
    {
      "cell_type": "code",
      "execution_count": 5,
      "metadata": {
        "id": "wtg-DXx4Td4o"
      },
      "outputs": [
        {
          "data": {
            "text/plain": [
              "'\\nc) Para o menor valor do parâmetro n_neighbors com a maior acurácia nos dados de testes, repita as etapas de treino e testes modificando a métrica de cálculo de distância para: \\n    1. manhattan\\n    2. euclidean\\n    3. hamming\\n    \\n(I) Houve alguma diferença nos resultados? \\nResp.: Sim, as 3 métricas de calculo mostraram resultados diferentes\\n\\n(II) Apresente um quadro resumo com os valores da acurácia para cada métrica de cálculo de distância utilizada. (ABAIXO DA CEDULA DE CÓDIGO)\\n'"
            ]
          },
          "execution_count": 5,
          "metadata": {},
          "output_type": "execute_result"
        }
      ],
      "source": [
        "\"\"\"\n",
        "c) Para o menor valor do parâmetro n_neighbors com a maior acurácia nos dados de testes, repita as etapas de treino e testes modificando a métrica de cálculo de distância para: \n",
        "    1. manhattan\n",
        "    2. euclidean\n",
        "    3. hamming\n",
        "    \n",
        "(I) Houve alguma diferença nos resultados? \n",
        "Resp.: Sim, as 3 métricas de calculo mostraram resultados diferentes\n",
        "\n",
        "(II) Apresente um quadro resumo com os valores da acurácia para cada métrica de cálculo de distância utilizada. (ABAIXO DA CEDULA DE CÓDIGO)\n",
        "\"\"\""
      ]
    },
    {
      "cell_type": "code",
      "execution_count": 6,
      "metadata": {
        "colab": {
          "base_uri": "https://localhost:8080/"
        },
        "id": "69E62Vb7T1n3",
        "outputId": "49404322-59a9-49ca-9647-287a430c8615"
      },
      "outputs": [
        {
          "name": "stdout",
          "output_type": "stream",
          "text": [
            "Acuracia do Modelo manhattan: 0.9333333333333333\n",
            "Acuracia do Modelo euclidean: 0.9666666666666667\n",
            "Acuracia do Modelo hamming: 0.7666666666666667\n"
          ]
        }
      ],
      "source": [
        "# 1. manhattan\n",
        "\n",
        "model = KNeighborsClassifier(n_neighbors=3, metric=\"manhattan\")\n",
        "model.fit(X_train, y_train)\n",
        "\n",
        "y_pred = model.predict(X_test)\n",
        "acc = metrics.accuracy_score(y_test, y_pred)\n",
        "\n",
        "print(f\"Acuracia do Modelo manhattan: {acc}\")\n",
        "\n",
        "# 2. euclidean\n",
        "\n",
        "model = KNeighborsClassifier(n_neighbors=3, metric=\"euclidean\")\n",
        "model.fit(X_train, y_train)\n",
        "\n",
        "y_pred = model.predict(X_test)\n",
        "acc = metrics.accuracy_score(y_test, y_pred)\n",
        "\n",
        "print(f\"Acuracia do Modelo euclidean: {acc}\")\n",
        "\n",
        "# 2. hamming\n",
        "\n",
        "model = KNeighborsClassifier(n_neighbors=3, metric=\"hamming\")\n",
        "model.fit(X_train, y_train)\n",
        "\n",
        "y_pred = model.predict(X_test)\n",
        "acc = metrics.accuracy_score(y_test, y_pred)\n",
        "\n",
        "print(f\"Acuracia do Modelo hamming: {acc}\")"
      ]
    },
    {
      "cell_type": "markdown",
      "metadata": {
        "id": "_qCv01HBUtDf"
      },
      "source": [
        "| Métricas | Resultados |\n",
        "|----------|------------|\n",
        "| manhattan | 0.9333 |\n",
        "| euclidean | 0.9667 |\n",
        "| hamming | 0.7667 |\n"
      ]
    },
    {
      "cell_type": "markdown",
      "metadata": {
        "id": "kZh2K2yHVkzH"
      },
      "source": [
        "d) Para o melhor desempenho com o valor do parâmetro `n_neighbors` e a métrica de cálculo de distância selecionados, interprete a matriz de confusão calculada e exibida.\n",
        "Resp.: Com relação a Matrix de Confusão, deve-se olhar linha e coluna do respectivo número simultaneamente. No nosso caso, interpreta-se da seguinte forma:\n",
        "\n",
        "1. Na coluna 0, foram previstos 16 valores de forma correta, e 3 valores previstos de forma equivocada;\n",
        "2. Na coluna 1, foram previstos 5 valores de forma correta, e 4 valores previstos de forma equivocada;\n",
        "3. Na coluna 2, foram previstos 2 valores de forma correta, e 0 valores previstos de forma equivocada;"
      ]
    },
    {
      "cell_type": "code",
      "execution_count": 7,
      "metadata": {
        "colab": {
          "base_uri": "https://localhost:8080/",
          "height": 489
        },
        "id": "8eMUKxcKVLrJ",
        "outputId": "b6da540d-e193-448d-dca7-d0480bc06f1b"
      },
      "outputs": [
        {
          "data": {
            "text/plain": [
              "Text(0.5, 1.0, 'Confusion Matrix - IRIS')"
            ]
          },
          "execution_count": 7,
          "metadata": {},
          "output_type": "execute_result"
        },
        {
          "data": {
            "image/png": "[encoded data removed]",
            "text/plain": [
              "<Figure size 640x480 with 2 Axes>"
            ]
          },
          "metadata": {},
          "output_type": "display_data"
        }
      ],
      "source": [
        "k = 3\n",
        "\n",
        "model = KNeighborsClassifier(n_neighbors=k, metric=\"hamming\")\n",
        "model.fit(X_train, y_train)\n",
        "\n",
        "\n",
        "y_pred = model.predict(X_test)\n",
        "acc = metrics.accuracy_score(y_test, y_pred)\n",
        "\n",
        "conf_matrix = confusion_matrix(y_test, y_pred)\n",
        "\n",
        "# 12 - Exibir Matrix de Confusao\n",
        "display = ConfusionMatrixDisplay(confusion_matrix=conf_matrix)\n",
        "\n",
        "display.plot()\n",
        "display.ax_.set_title(\"Confusion Matrix - IRIS\")"
      ]
    }
  ],
  "metadata": {
    "colab": {
      "provenance": []
    },
    "kernelspec": {
      "display_name": "Python 3",
      "name": "python3"
    },
    "language_info": {
      "codemirror_mode": {
        "name": "ipython",
        "version": 3
      },
      "file_extension": ".py",
      "mimetype": "text/x-python",
      "name": "python",
      "nbconvert_exporter": "python",
      "pygments_lexer": "ipython3",
      "version": "3.11.3"
    }
  },
  "nbformat": 4,
  "nbformat_minor": 0
}
