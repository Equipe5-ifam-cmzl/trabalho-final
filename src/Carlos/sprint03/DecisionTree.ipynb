{
  "cells": [
    {
      "cell_type": "code",
      "execution_count": 30,
      "metadata": {
        "colab": {
          "base_uri": "https://localhost:8080/"
        },
        "id": "uvjM3oZo0Aui",
        "outputId": "b83c6b8b-d5c8-4161-b841-1238817961fd"
      },
      "outputs": [
        {
          "data": {
            "text/plain": [
              "\"\\nfrom google.colab import drive\\ndrive.mount('/content/drive')\\n\""
            ]
          },
          "execution_count": 30,
          "metadata": {},
          "output_type": "execute_result"
        }
      ],
      "source": [
        "\"\"\"\n",
        "from google.colab import drive\n",
        "drive.mount('/content/drive')\n",
        "\"\"\""
      ]
    },
    {
      "cell_type": "code",
      "execution_count": 31,
      "metadata": {
        "id": "ELOlspbEz99m"
      },
      "outputs": [],
      "source": [
        "# 1 - Importar libs e dataset\n",
        "\n",
        "import pandas as pd\n",
        "import numpy as np\n",
        "\n",
        "# linkCollab = \"/content/drive/MyDrive/Colab Notebooks/dados/result.csv\"\n",
        "link = \"C:/Users/CarlosViniMSouza/Documents/Projects/data-mining-ifam/database/result.csv\"\n",
        "\n",
        "dataset = pd.read_csv(link)\n",
        "\n",
        "# 2 - Destinar features e coluna-alvo\n",
        "\n",
        "featureNames = ['risk_score', 'amount_requested', 'has_debt', 'income']\n",
        "\n",
        "X = pd.DataFrame(dataset, columns=featureNames)\n",
        "\n",
        "y = np.array(dataset['e_signed'])"
      ]
    },
    {
      "cell_type": "code",
      "execution_count": 32,
      "metadata": {},
      "outputs": [],
      "source": [
        "from sklearn.model_selection import train_test_split as tts\n",
        "\n",
        "X_train, X_test, y_train, y_test = tts(X, y, test_size=0.3, random_state=0)"
      ]
    },
    {
      "cell_type": "code",
      "execution_count": 33,
      "metadata": {},
      "outputs": [
        {
          "name": "stdout",
          "output_type": "stream",
          "text": [
            "Shape de treino: (12535, 4)\n",
            "Shape de teste: (5373, 4)\n"
          ]
        }
      ],
      "source": [
        "print(f\"Shape de treino: {X_train.shape}\")\n",
        "\n",
        "print(f\"Shape de teste: {X_test.shape}\")"
      ]
    },
    {
      "cell_type": "code",
      "execution_count": 34,
      "metadata": {
        "id": "6vZJgcQzz99p"
      },
      "outputs": [
        {
          "data": {
            "text/plain": [
              "0.999680893498205"
            ]
          },
          "execution_count": 34,
          "metadata": {},
          "output_type": "execute_result"
        }
      ],
      "source": [
        "# 3 - Definindo classificador\n",
        "\n",
        "from sklearn.tree import DecisionTreeClassifier\n",
        "\n",
        "model = DecisionTreeClassifier()\n",
        "\n",
        "model.fit(X_train, y_train)\n",
        "model.score(X_train, y_train)"
      ]
    },
    {
      "cell_type": "code",
      "execution_count": 35,
      "metadata": {},
      "outputs": [
        {
          "name": "stdout",
          "output_type": "stream",
          "text": [
            "0.5574167131956077\n"
          ]
        }
      ],
      "source": [
        "# TREINO E TESTE\n",
        "predictions = model.predict(X_test)\n",
        "score = model.score(X_test, y_test)\n",
        "\n",
        "print(score)"
      ]
    },
    {
      "attachments": {},
      "cell_type": "markdown",
      "metadata": {},
      "source": [
        "## Vamos testar alguns parâmetros do tipo `critério`:\n",
        "\n",
        "1. gini (padrão, já testado)\n",
        "2. entropy\n",
        "3. log_loss\n",
        "\n",
        "## E dois parâmetros especifícos:\n",
        "\n",
        "1. `max_depth`\n",
        "2. `min_samples_split`"
      ]
    },
    {
      "cell_type": "code",
      "execution_count": 36,
      "metadata": {},
      "outputs": [
        {
          "name": "stdout",
          "output_type": "stream",
          "text": [
            "0.5548110924995348\n"
          ]
        }
      ],
      "source": [
        "modelTest01 = DecisionTreeClassifier(criterion='entropy', max_depth=10, min_samples_split=10)\n",
        "\n",
        "model.fit(X_train, y_train)\n",
        "model.score(X_train, y_train)\n",
        "\n",
        "# TREINO E TESTE\n",
        "predictions = model.predict(X_test)\n",
        "score = model.score(X_test, y_test)\n",
        "\n",
        "print(score)"
      ]
    }
  ],
  "metadata": {
    "colab": {
      "provenance": []
    },
    "kernelspec": {
      "display_name": "venv",
      "language": "python",
      "name": "python3"
    },
    "language_info": {
      "codemirror_mode": {
        "name": "ipython",
        "version": 3
      },
      "file_extension": ".py",
      "mimetype": "text/x-python",
      "name": "python",
      "nbconvert_exporter": "python",
      "pygments_lexer": "ipython3",
      "version": "3.11.1"
    },
    "orig_nbformat": 4
  },
  "nbformat": 4,
  "nbformat_minor": 0
}
