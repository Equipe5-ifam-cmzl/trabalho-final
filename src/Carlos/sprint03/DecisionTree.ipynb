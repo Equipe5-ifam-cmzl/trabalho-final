{
  "cells": [
    {
      "cell_type": "code",
      "execution_count": 87,
      "metadata": {
        "colab": {
          "base_uri": "https://localhost:8080/"
        },
        "id": "uvjM3oZo0Aui",
        "outputId": "b83c6b8b-d5c8-4161-b841-1238817961fd"
      },
      "outputs": [
        {
          "data": {
            "text/plain": [
              "\"\\nfrom google.colab import drive\\ndrive.mount('/content/drive')\\n\""
            ]
          },
          "execution_count": 87,
          "metadata": {},
          "output_type": "execute_result"
        }
      ],
      "source": [
        "\"\"\"\n",
        "from google.colab import drive\n",
        "drive.mount('/content/drive')\n",
        "\"\"\"\n",
        "\n",
        "# linkCollab = \"/content/drive/MyDrive/Colab Notebooks/dados/result.csv\""
      ]
    },
    {
      "cell_type": "code",
      "execution_count": 3,
      "metadata": {
        "id": "ELOlspbEz99m"
      },
      "outputs": [],
      "source": [
        "# 1 - Importar libs e dataset\n",
        "\n",
        "import pandas as pd\n",
        "import numpy as np\n",
        "\n",
        "link = \"C:/Users/CarlosViniMSouza/Documents/Projects/data-mining-ifam/database/result.csv\"\n",
        "link2 = \"/workspaces/trabalho-final/database/Financial-Data.csv\"\n",
        "\n",
        "dataset = pd.read_csv(link2)"
      ]
    },
    {
      "cell_type": "code",
      "execution_count": 4,
      "metadata": {},
      "outputs": [],
      "source": [
        "# 2 - Destinar features e coluna-alvo\n",
        "\n",
        "featureNames = ['risk_score', 'amount_requested', 'has_debt', 'income']\n",
        "\n",
        "X = pd.DataFrame(dataset, columns=featureNames)\n",
        "y = np.array(dataset['e_signed'])"
      ]
    },
    {
      "cell_type": "code",
      "execution_count": 5,
      "metadata": {},
      "outputs": [],
      "source": [
        "# 3 - Dividindo os dados de treino e teste\n",
        "\n",
        "from sklearn.model_selection import train_test_split as tts\n",
        "\n",
        "X_train, X_test, y_train, y_test = tts(X, y, test_size=0.3, random_state=0)"
      ]
    },
    {
      "cell_type": "code",
      "execution_count": 6,
      "metadata": {},
      "outputs": [
        {
          "name": "stdout",
          "output_type": "stream",
          "text": [
            "Shape de treino: (12535, 4)\n",
            "Shape de teste: (5373, 4)\n"
          ]
        }
      ],
      "source": [
        "# 4 - Checando proporções de treino e teste\n",
        "\n",
        "print(f\"Shape de treino: {X_train.shape}\")\n",
        "\n",
        "print(f\"Shape de teste: {X_test.shape}\")"
      ]
    },
    {
      "cell_type": "code",
      "execution_count": 7,
      "metadata": {
        "id": "6vZJgcQzz99p"
      },
      "outputs": [],
      "source": [
        "# 3 - Definindo classificador (Com valores padrão)\n",
        "\n",
        "from sklearn.tree import DecisionTreeClassifier\n",
        "\n",
        "model = DecisionTreeClassifier()"
      ]
    },
    {
      "cell_type": "code",
      "execution_count": 8,
      "metadata": {},
      "outputs": [
        {
          "data": {
            "text/plain": [
              "0.999680893498205"
            ]
          },
          "execution_count": 8,
          "metadata": {},
          "output_type": "execute_result"
        }
      ],
      "source": [
        "# 4 - TREINO\n",
        "\n",
        "model.fit(X_train, y_train)\n",
        "model.score(X_train, y_train)"
      ]
    },
    {
      "cell_type": "code",
      "execution_count": 9,
      "metadata": {},
      "outputs": [
        {
          "data": {
            "text/plain": [
              "0.9998138842359948"
            ]
          },
          "execution_count": 9,
          "metadata": {},
          "output_type": "execute_result"
        }
      ],
      "source": [
        "# 5 - TEST\n",
        "\n",
        "model.fit(X_test, y_test)\n",
        "model.score(X_test, y_test)"
      ]
    },
    {
      "cell_type": "code",
      "execution_count": 10,
      "metadata": {},
      "outputs": [
        {
          "name": "stdout",
          "output_type": "stream",
          "text": [
            "0.9998138842359948\n"
          ]
        }
      ],
      "source": [
        "# 6 - Resultado\n",
        "\n",
        "predictions = model.predict(X_test)\n",
        "score = model.score(X_test, y_test)\n",
        "\n",
        "print(score)"
      ]
    },
    {
      "attachments": {},
      "cell_type": "markdown",
      "metadata": {},
      "source": [
        "## Vamos testar alguns parâmetros do tipo **critério**:\n",
        "\n",
        "1. `gini (valor padrão)`\n",
        "2. `entropy`\n",
        "3. `log_loss`\n",
        "\n",
        "## E três parâmetros especifícos:\n",
        "\n",
        "1. `max_depth`\n",
        "2. `min_samples_split`\n",
        "3. `splitter`"
      ]
    },
    {
      "cell_type": "code",
      "execution_count": 11,
      "metadata": {},
      "outputs": [],
      "source": [
        "model = DecisionTreeClassifier(\n",
        "    criterion='entropy', \n",
        "    splitter=\"best\", \n",
        "    max_depth=1000, \n",
        "    min_samples_split=10\n",
        ")"
      ]
    },
    {
      "cell_type": "code",
      "execution_count": 12,
      "metadata": {},
      "outputs": [
        {
          "data": {
            "text/plain": [
              "0.8804946150777823"
            ]
          },
          "execution_count": 12,
          "metadata": {},
          "output_type": "execute_result"
        }
      ],
      "source": [
        "# TREINO\n",
        "\n",
        "model.fit(X_train, y_train)\n",
        "model.score(X_train, y_train)"
      ]
    },
    {
      "cell_type": "code",
      "execution_count": 13,
      "metadata": {},
      "outputs": [
        {
          "data": {
            "text/plain": [
              "0.8710217755443886"
            ]
          },
          "execution_count": 13,
          "metadata": {},
          "output_type": "execute_result"
        }
      ],
      "source": [
        "# TESTE\n",
        "\n",
        "model.fit(X_test, y_test)\n",
        "model.score(X_test, y_test)"
      ]
    },
    {
      "cell_type": "code",
      "execution_count": 14,
      "metadata": {},
      "outputs": [
        {
          "name": "stdout",
          "output_type": "stream",
          "text": [
            "0.8710217755443886\n"
          ]
        }
      ],
      "source": [
        "# Resultado\n",
        "\n",
        "predictions = model.predict(X_test)\n",
        "score = model.score(X_test, y_test)\n",
        "\n",
        "print(score)"
      ]
    },
    {
      "cell_type": "code",
      "execution_count": 15,
      "metadata": {},
      "outputs": [],
      "source": [
        "model = DecisionTreeClassifier(\n",
        "    criterion='log_loss', \n",
        "    splitter=\"best\",\n",
        "    max_depth=1000, \n",
        "    min_samples_split=10\n",
        ")"
      ]
    },
    {
      "cell_type": "code",
      "execution_count": 16,
      "metadata": {},
      "outputs": [
        {
          "data": {
            "text/plain": [
              "0.8808934982050259"
            ]
          },
          "execution_count": 16,
          "metadata": {},
          "output_type": "execute_result"
        }
      ],
      "source": [
        "# TREINO\n",
        "\n",
        "model.fit(X_train, y_train)\n",
        "model.score(X_train, y_train)"
      ]
    },
    {
      "cell_type": "code",
      "execution_count": 17,
      "metadata": {},
      "outputs": [
        {
          "data": {
            "text/plain": [
              "0.8708356597803834"
            ]
          },
          "execution_count": 17,
          "metadata": {},
          "output_type": "execute_result"
        }
      ],
      "source": [
        "# TESTE\n",
        "\n",
        "model.fit(X_test, y_test)\n",
        "model.score(X_test, y_test)"
      ]
    },
    {
      "cell_type": "code",
      "execution_count": 18,
      "metadata": {},
      "outputs": [
        {
          "name": "stdout",
          "output_type": "stream",
          "text": [
            "0.8708356597803834\n"
          ]
        }
      ],
      "source": [
        "# Resultados\n",
        "\n",
        "predictions = model.predict(X_test)\n",
        "score = model.score(X_test, y_test)\n",
        "\n",
        "print(score)"
      ]
    },
    {
      "cell_type": "code",
      "execution_count": 21,
      "metadata": {},
      "outputs": [],
      "source": [
        "import seaborn as sns"
      ]
    },
    {
      "cell_type": "code",
      "execution_count": 22,
      "metadata": {},
      "outputs": [
        {
          "name": "stdout",
          "output_type": "stream",
          "text": [
            "              precision    recall  f1-score   support\n",
            "\n",
            "           0       0.84      0.89      0.87      2492\n",
            "           1       0.90      0.85      0.88      2881\n",
            "\n",
            "    accuracy                           0.87      5373\n",
            "   macro avg       0.87      0.87      0.87      5373\n",
            "weighted avg       0.87      0.87      0.87      5373\n",
            "\n"
          ]
        },
        {
          "data": {
            "image/png": "[encoded data removed]",
            "text/plain": [
              "<Figure size 640x480 with 2 Axes>"
            ]
          },
          "metadata": {},
          "output_type": "display_data"
        }
      ],
      "source": [
        "from sklearn.metrics import classification_report, confusion_matrix\n",
        "\n",
        "confMatrix = confusion_matrix(y_test, predictions)\n",
        "\n",
        "sns \\\n",
        "    .heatmap(confMatrix, annot=True, fmt='d') \\\n",
        "    .set_title('Results in confusion matrix')\n",
        "\n",
        "print(classification_report(y_test, predictions))"
      ]
    },
    {
      "cell_type": "code",
      "execution_count": null,
      "metadata": {},
      "outputs": [],
      "source": []
    }
  ],
  "metadata": {
    "colab": {
      "provenance": []
    },
    "kernelspec": {
      "display_name": "venv",
      "language": "python",
      "name": "python3"
    },
    "language_info": {
      "codemirror_mode": {
        "name": "ipython",
        "version": 3
      },
      "file_extension": ".py",
      "mimetype": "text/x-python",
      "name": "python",
      "nbconvert_exporter": "python",
      "pygments_lexer": "ipython3",
      "version": "3.10.4"
    },
    "orig_nbformat": 4
  },
  "nbformat": 4,
  "nbformat_minor": 0
}
